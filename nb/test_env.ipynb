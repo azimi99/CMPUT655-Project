{
 "cells": [
  {
   "cell_type": "code",
   "execution_count": 16,
   "id": "bccb94dd-a4fc-42d4-9896-8e912e17094c",
   "metadata": {},
   "outputs": [],
   "source": [
    "import sys\n",
    "import warnings\n",
    "warnings.filterwarnings(\"ignore\")\n",
    "sys.path.append(\"..\")\n",
    "import numpy as np\n",
    "\n",
    "from matplotlib import pyplot as plt\n",
    "\n",
    "from codes import make_env"
   ]
  },
  {
   "cell_type": "code",
   "execution_count": 17,
   "id": "dd8749da",
   "metadata": {},
   "outputs": [],
   "source": [
    "env = make_env(\"MiniGrid-DistShift1-v0\",\n",
    "                flat_obs=True,\n",
    "                normalize_reward=True,\n",
    "                penalize_death=True,\n",
    "                reward_amplification=1.0,\n",
    "                mx_reward=1.0,\n",
    "                gamma=0.9,\n",
    "                )"
   ]
  },
  {
   "cell_type": "code",
   "execution_count": 18,
   "id": "e5c0584d",
   "metadata": {},
   "outputs": [],
   "source": [
    "obs, _ = env.reset(seed=42)"
   ]
  },
  {
   "cell_type": "code",
   "execution_count": 19,
   "id": "8eda6d86",
   "metadata": {},
   "outputs": [],
   "source": [
    "obs = obs.reshape((-1, 3))[:, 0]"
   ]
  },
  {
   "cell_type": "code",
   "execution_count": 23,
   "id": "de1caff4",
   "metadata": {},
   "outputs": [
    {
     "data": {
      "text/plain": [
       "array([[10,  1,  1,  1,  1],\n",
       "       [ 1,  1,  1,  1,  1],\n",
       "       [ 9,  9,  1,  1,  1],\n",
       "       [ 9,  9,  1,  1,  1],\n",
       "       [ 9,  9,  1,  1,  1],\n",
       "       [ 1,  1,  1,  1,  1],\n",
       "       [ 8,  1,  1,  1,  1]], dtype=uint8)"
      ]
     },
     "execution_count": 23,
     "metadata": {},
     "output_type": "execute_result"
    }
   ],
   "source": [
    "obs.reshape(7, 5)"
   ]
  },
  {
   "cell_type": "code",
   "execution_count": 24,
   "id": "c41c92ac",
   "metadata": {},
   "outputs": [],
   "source": [
    "obs = env.step(1)[0]"
   ]
  },
  {
   "cell_type": "code",
   "execution_count": 25,
   "id": "b1de1f57",
   "metadata": {},
   "outputs": [
    {
     "data": {
      "text/plain": [
       "array([[ 1, 10,  1,  1,  1],\n",
       "       [ 1,  1,  1,  1,  1],\n",
       "       [ 9,  9,  1,  1,  1],\n",
       "       [ 9,  9,  1,  1,  1],\n",
       "       [ 9,  9,  1,  1,  1],\n",
       "       [ 1,  1,  1,  1,  1],\n",
       "       [ 8,  1,  1,  1,  1]], dtype=uint8)"
      ]
     },
     "execution_count": 25,
     "metadata": {},
     "output_type": "execute_result"
    }
   ],
   "source": [
    "obs.reshape((-1, 3))[:, 0].reshape(7, 5)"
   ]
  },
  {
   "cell_type": "code",
   "execution_count": 26,
   "id": "8b8be436",
   "metadata": {},
   "outputs": [],
   "source": [
    "obs, reward, term, trunc, _ = env.step(1)"
   ]
  },
  {
   "cell_type": "code",
   "execution_count": 27,
   "id": "428e56e5",
   "metadata": {},
   "outputs": [
    {
     "data": {
      "text/plain": [
       "array([[ 1,  1, 10,  1,  1],\n",
       "       [ 1,  1,  1,  1,  1],\n",
       "       [ 9,  9,  1,  1,  1],\n",
       "       [ 9,  9,  1,  1,  1],\n",
       "       [ 9,  9,  1,  1,  1],\n",
       "       [ 1,  1,  1,  1,  1],\n",
       "       [ 8,  1,  1,  1,  1]], dtype=uint8)"
      ]
     },
     "execution_count": 27,
     "metadata": {},
     "output_type": "execute_result"
    }
   ],
   "source": [
    "obs.reshape((-1, 3))[:, 0].reshape(7, 5)"
   ]
  },
  {
   "cell_type": "code",
   "execution_count": 28,
   "id": "f2d75879",
   "metadata": {},
   "outputs": [
    {
     "data": {
      "text/plain": [
       "-0.09999999999999998"
      ]
     },
     "execution_count": 28,
     "metadata": {},
     "output_type": "execute_result"
    }
   ],
   "source": [
    "reward"
   ]
  },
  {
   "cell_type": "code",
   "execution_count": 29,
   "id": "74764159",
   "metadata": {},
   "outputs": [
    {
     "data": {
      "text/plain": [
       "(array([ 1,  0,  0,  1,  0,  0,  1,  0,  0,  1,  0,  0,  1,  0,  0,  1,  0,\n",
       "         0,  1,  0,  0,  1,  0,  0,  1,  0,  0,  1,  0,  0,  9,  0,  0,  9,\n",
       "         0,  0,  1,  0,  0,  1,  0,  0,  1,  0,  0,  9,  0,  0,  9,  0,  0,\n",
       "         1,  0,  0,  1,  0,  0,  1,  0,  0,  9,  0,  0,  9,  0,  0,  1,  0,\n",
       "         0,  1,  0,  0,  1,  0,  0,  1,  0,  0,  1,  0,  0,  1,  0,  0,  1,\n",
       "         0,  0,  1,  0,  0,  8,  1,  0,  1,  0,  0, 10,  0,  1,  1,  0,  0,\n",
       "         1,  0,  0], dtype=uint8),\n",
       " -0.09999999999999998,\n",
       " False,\n",
       " False,\n",
       " {})"
      ]
     },
     "execution_count": 29,
     "metadata": {},
     "output_type": "execute_result"
    }
   ],
   "source": [
    "env.step(0)\n",
    "env.step(0)\n",
    "env.step(0)\n",
    "env.step(0)\n",
    "env.step(0)\n",
    "env.step(0)"
   ]
  },
  {
   "cell_type": "code",
   "execution_count": 30,
   "id": "3f32a380",
   "metadata": {},
   "outputs": [],
   "source": [
    "obs = env.step(3)[0].reshape((-1, 3))[:, 0].reshape(7, 5)"
   ]
  },
  {
   "cell_type": "code",
   "execution_count": 31,
   "id": "b766e804",
   "metadata": {},
   "outputs": [
    {
     "data": {
      "text/plain": [
       "array([[ 1,  1,  1,  1,  1],\n",
       "       [ 1,  1,  1,  1,  1],\n",
       "       [ 9,  9,  1,  1,  1],\n",
       "       [ 9,  9,  1,  1,  1],\n",
       "       [ 9,  9,  1,  1,  1],\n",
       "       [ 1,  1,  1,  1,  1],\n",
       "       [ 8, 10,  1,  1,  1]], dtype=uint8)"
      ]
     },
     "execution_count": 31,
     "metadata": {},
     "output_type": "execute_result"
    }
   ],
   "source": [
    "obs"
   ]
  },
  {
   "cell_type": "code",
   "execution_count": 32,
   "id": "a4f04403",
   "metadata": {},
   "outputs": [],
   "source": [
    "obs, reward, term, trunc, _ = env.step(3)"
   ]
  },
  {
   "cell_type": "code",
   "execution_count": 33,
   "id": "d66e0b5a",
   "metadata": {},
   "outputs": [
    {
     "data": {
      "text/plain": [
       "0.8642857142857143"
      ]
     },
     "execution_count": 33,
     "metadata": {},
     "output_type": "execute_result"
    }
   ],
   "source": [
    "reward"
   ]
  },
  {
   "cell_type": "code",
   "execution_count": 34,
   "id": "60cb86d1",
   "metadata": {},
   "outputs": [
    {
     "data": {
      "text/plain": [
       "array([[ 1,  1,  1,  1,  1],\n",
       "       [ 1,  1,  1,  1,  1],\n",
       "       [ 9,  9,  1,  1,  1],\n",
       "       [ 9,  9,  1,  1,  1],\n",
       "       [ 9,  9,  1,  1,  1],\n",
       "       [ 1,  1,  1,  1,  1],\n",
       "       [10,  1,  1,  1,  1]], dtype=uint8)"
      ]
     },
     "execution_count": 34,
     "metadata": {},
     "output_type": "execute_result"
    }
   ],
   "source": [
    "obs.reshape((-1, 3))[:, 0].reshape(7, 5)"
   ]
  },
  {
   "cell_type": "code",
   "execution_count": 13,
   "id": "ee4c73cc",
   "metadata": {},
   "outputs": [
    {
     "name": "stdout",
     "output_type": "stream",
     "text": [
      "True False\n"
     ]
    }
   ],
   "source": [
    "print(term, trunc)"
   ]
  },
  {
   "cell_type": "code",
   "execution_count": 14,
   "id": "efc65790",
   "metadata": {},
   "outputs": [],
   "source": [
    "# obs, reward, term, trunc, _ = env.step(0)\n",
    "# reward"
   ]
  },
  {
   "cell_type": "code",
   "execution_count": 15,
   "id": "ebff2649",
   "metadata": {},
   "outputs": [],
   "source": [
    "# obs.reshape((-1, 3))[:, 0].reshape(3, 3)"
   ]
  }
 ],
 "metadata": {
  "kernelspec": {
   "display_name": "Python 3 (ipykernel)",
   "language": "python",
   "name": "python3"
  },
  "language_info": {
   "codemirror_mode": {
    "name": "ipython",
    "version": 3
   },
   "file_extension": ".py",
   "mimetype": "text/x-python",
   "name": "python",
   "nbconvert_exporter": "python",
   "pygments_lexer": "ipython3",
   "version": "3.10.13"
  }
 },
 "nbformat": 4,
 "nbformat_minor": 5
}
